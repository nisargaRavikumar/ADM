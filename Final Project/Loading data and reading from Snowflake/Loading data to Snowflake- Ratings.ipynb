{
 "cells": [
  {
   "cell_type": "code",
   "execution_count": 1,
   "id": "95aa25d5",
   "metadata": {},
   "outputs": [
    {
     "name": "stdout",
     "output_type": "stream",
     "text": [
      "Requirement already satisfied: snowflake-connector-python in c:\\users\\prana\\appdata\\local\\programs\\python\\python39\\lib\\site-packages (2.6.2)\n",
      "Requirement already satisfied: charset-normalizer~=2.0.0 in c:\\users\\prana\\appdata\\local\\programs\\python\\python39\\lib\\site-packages (from snowflake-connector-python) (2.0.7)\n",
      "Requirement already satisfied: certifi>=2017.4.17 in c:\\users\\prana\\appdata\\local\\programs\\python\\python39\\lib\\site-packages (from snowflake-connector-python) (2021.10.8)\n",
      "Requirement already satisfied: boto3<2.0.0,>=1.4.4 in c:\\users\\prana\\appdata\\local\\programs\\python\\python39\\lib\\site-packages (from snowflake-connector-python) (1.18.63)\n",
      "Requirement already satisfied: pytz in c:\\users\\prana\\appdata\\local\\programs\\python\\python39\\lib\\site-packages (from snowflake-connector-python) (2021.3)\n",
      "Requirement already satisfied: requests<3.0.0 in c:\\users\\prana\\appdata\\local\\programs\\python\\python39\\lib\\site-packages (from snowflake-connector-python) (2.26.0)\n",
      "Requirement already satisfied: oscrypto<2.0.0 in c:\\users\\prana\\appdata\\local\\programs\\python\\python39\\lib\\site-packages (from snowflake-connector-python) (1.2.1)\n",
      "Requirement already satisfied: azure-storage-blob<13.0.0,>=12.0.0 in c:\\users\\prana\\appdata\\local\\programs\\python\\python39\\lib\\site-packages (from snowflake-connector-python) (12.9.0)\n",
      "Requirement already satisfied: azure-common<2.0.0 in c:\\users\\prana\\appdata\\local\\programs\\python\\python39\\lib\\site-packages (from snowflake-connector-python) (1.1.27)\n",
      "Requirement already satisfied: pyOpenSSL<21.0.0,>=16.2.0 in c:\\users\\prana\\appdata\\local\\programs\\python\\python39\\lib\\site-packages (from snowflake-connector-python) (20.0.1)\n",
      "Requirement already satisfied: asn1crypto<2.0.0,>0.24.0 in c:\\users\\prana\\appdata\\local\\programs\\python\\python39\\lib\\site-packages (from snowflake-connector-python) (1.4.0)\n",
      "Requirement already satisfied: cffi<2.0.0,>=1.9 in c:\\users\\prana\\appdata\\local\\programs\\python\\python39\\lib\\site-packages (from snowflake-connector-python) (1.14.6)\n",
      "Requirement already satisfied: pycryptodomex!=3.5.0,<4.0.0,>=3.2 in c:\\users\\prana\\appdata\\local\\programs\\python\\python39\\lib\\site-packages (from snowflake-connector-python) (3.11.0)\n",
      "Requirement already satisfied: cryptography<4.0.0,>=2.5.0 in c:\\users\\prana\\appdata\\local\\programs\\python\\python39\\lib\\site-packages (from snowflake-connector-python) (3.4.8)\n",
      "Requirement already satisfied: idna<4,>=2.5 in c:\\users\\prana\\appdata\\local\\programs\\python\\python39\\lib\\site-packages (from snowflake-connector-python) (3.3)\n",
      "Requirement already satisfied: setuptools>34.0.0 in c:\\users\\prana\\appdata\\local\\programs\\python\\python39\\lib\\site-packages (from snowflake-connector-python) (57.4.0)\n",
      "Requirement already satisfied: pyjwt<3.0.0 in c:\\users\\prana\\appdata\\local\\programs\\python\\python39\\lib\\site-packages (from snowflake-connector-python) (2.3.0)\n",
      "Requirement already satisfied: msrest>=0.6.21 in c:\\users\\prana\\appdata\\local\\programs\\python\\python39\\lib\\site-packages (from azure-storage-blob<13.0.0,>=12.0.0->snowflake-connector-python) (0.6.21)\n",
      "Requirement already satisfied: azure-core<2.0.0,>=1.10.0 in c:\\users\\prana\\appdata\\local\\programs\\python\\python39\\lib\\site-packages (from azure-storage-blob<13.0.0,>=12.0.0->snowflake-connector-python) (1.19.0)\n",
      "Requirement already satisfied: jmespath<1.0.0,>=0.7.1 in c:\\users\\prana\\appdata\\local\\programs\\python\\python39\\lib\\site-packages (from boto3<2.0.0,>=1.4.4->snowflake-connector-python) (0.10.0)\n",
      "Requirement already satisfied: botocore<1.22.0,>=1.21.63 in c:\\users\\prana\\appdata\\local\\programs\\python\\python39\\lib\\site-packages (from boto3<2.0.0,>=1.4.4->snowflake-connector-python) (1.21.63)\n",
      "Requirement already satisfied: s3transfer<0.6.0,>=0.5.0 in c:\\users\\prana\\appdata\\local\\programs\\python\\python39\\lib\\site-packages (from boto3<2.0.0,>=1.4.4->snowflake-connector-python) (0.5.0)\n",
      "Requirement already satisfied: pycparser in c:\\users\\prana\\appdata\\local\\programs\\python\\python39\\lib\\site-packages (from cffi<2.0.0,>=1.9->snowflake-connector-python) (2.20)\n",
      "Requirement already satisfied: six>=1.5.2 in c:\\users\\prana\\appdata\\local\\programs\\python\\python39\\lib\\site-packages (from pyOpenSSL<21.0.0,>=16.2.0->snowflake-connector-python) (1.16.0)\n",
      "Requirement already satisfied: urllib3<1.27,>=1.21.1 in c:\\users\\prana\\appdata\\local\\programs\\python\\python39\\lib\\site-packages (from requests<3.0.0->snowflake-connector-python) (1.26.7)\n",
      "Requirement already satisfied: python-dateutil<3.0.0,>=2.1 in c:\\users\\prana\\appdata\\local\\programs\\python\\python39\\lib\\site-packages (from botocore<1.22.0,>=1.21.63->boto3<2.0.0,>=1.4.4->snowflake-connector-python) (2.8.2)\n",
      "Requirement already satisfied: requests-oauthlib>=0.5.0 in c:\\users\\prana\\appdata\\local\\programs\\python\\python39\\lib\\site-packages (from msrest>=0.6.21->azure-storage-blob<13.0.0,>=12.0.0->snowflake-connector-python) (1.3.0)\n",
      "Requirement already satisfied: isodate>=0.6.0 in c:\\users\\prana\\appdata\\local\\programs\\python\\python39\\lib\\site-packages (from msrest>=0.6.21->azure-storage-blob<13.0.0,>=12.0.0->snowflake-connector-python) (0.6.0)\n",
      "Requirement already satisfied: oauthlib>=3.0.0 in c:\\users\\prana\\appdata\\local\\programs\\python\\python39\\lib\\site-packages (from requests-oauthlib>=0.5.0->msrest>=0.6.21->azure-storage-blob<13.0.0,>=12.0.0->snowflake-connector-python) (3.1.1)\n",
      "Note: you may need to restart the kernel to use updated packages.\n"
     ]
    }
   ],
   "source": [
    "pip install snowflake-connector-python"
   ]
  },
  {
   "cell_type": "code",
   "execution_count": 2,
   "id": "e0551455",
   "metadata": {},
   "outputs": [],
   "source": [
    "# Importing the required packages for all your data framing needs.\n",
    "import pandas as pd"
   ]
  },
  {
   "cell_type": "code",
   "execution_count": 3,
   "id": "6787d3fb",
   "metadata": {},
   "outputs": [],
   "source": [
    "# The Snowflake Connector library.\n",
    "import snowflake.connector as snow\n",
    "from snowflake.connector.pandas_tools import write_pandas"
   ]
  },
  {
   "cell_type": "code",
   "execution_count": 4,
   "id": "bebc8fa3",
   "metadata": {
    "scrolled": true
   },
   "outputs": [],
   "source": [
    "## Phase I: Truncate/Delete the current data in the table\n",
    "# The connector...\n",
    "conn = snow.connect(user=\"pranaliv95\",\n",
    "   password=\"Pranaliv@95\",\n",
    "   account=\"yv43311.us-east-2.aws\",\n",
    "   # (the prefix in your snowflake space... for example, \n",
    "   # company.snowflakecomputing.com would just be \"company\" as the ACCOUNT name)\n",
    "   #warehouse=\"WAREHOUSE\",\n",
    "   database=\"BOOK_RECOMMENDATION\",\n",
    "   schema=\"PUBLIC\")"
   ]
  },
  {
   "cell_type": "code",
   "execution_count": 5,
   "id": "e9f0b120",
   "metadata": {},
   "outputs": [],
   "source": [
    "# Create a cursor object.\n",
    "cur = conn.cursor()"
   ]
  },
  {
   "cell_type": "code",
   "execution_count": 6,
   "id": "6bb3ab28",
   "metadata": {},
   "outputs": [
    {
     "data": {
      "text/plain": [
       "<snowflake.connector.cursor.SnowflakeCursor at 0x2bbcb7db4c0>"
      ]
     },
     "execution_count": 6,
     "metadata": {},
     "output_type": "execute_result"
    }
   ],
   "source": [
    "sql = \"USE ROLE SYSADMIN\"\n",
    "cur.execute(sql)"
   ]
  },
  {
   "cell_type": "code",
   "execution_count": 7,
   "id": "b674755e",
   "metadata": {},
   "outputs": [
    {
     "data": {
      "text/plain": [
       "<snowflake.connector.cursor.SnowflakeCursor at 0x2bbcb7db4c0>"
      ]
     },
     "execution_count": 7,
     "metadata": {},
     "output_type": "execute_result"
    }
   ],
   "source": [
    "# And then use it.\n",
    "sql = \"USE DATABASE BOOK_RECOMMENDATION\"\n",
    "cur.execute(sql)"
   ]
  },
  {
   "cell_type": "code",
   "execution_count": 8,
   "id": "bd071436",
   "metadata": {},
   "outputs": [
    {
     "data": {
      "text/plain": [
       "<snowflake.connector.cursor.SnowflakeCursor at 0x2bbcb7db4c0>"
      ]
     },
     "execution_count": 8,
     "metadata": {},
     "output_type": "execute_result"
    }
   ],
   "source": [
    "# And then use it.\n",
    "sql = \"USE SCHEMA PUBLIC\"\n",
    "cur.execute(sql)"
   ]
  },
  {
   "cell_type": "code",
   "execution_count": 9,
   "id": "6f5ae74d",
   "metadata": {},
   "outputs": [
    {
     "data": {
      "text/plain": [
       "<snowflake.connector.cursor.SnowflakeCursor at 0x2bbcb7db4c0>"
      ]
     },
     "execution_count": 9,
     "metadata": {},
     "output_type": "execute_result"
    }
   ],
   "source": [
    "sql = (\"CREATE OR REPLACE TABLE RATINGS\"\n",
    "      \"(book_id numeric, user_id numeric, rating numeric)\")\n",
    "cur.execute(sql)"
   ]
  },
  {
   "cell_type": "code",
   "execution_count": 10,
   "id": "bf09a2b9",
   "metadata": {},
   "outputs": [],
   "source": [
    "## Phase II: Upload from the Exported Data File.\n",
    "# Let's import a new dataframe so that we can test this.\n",
    "original = r\"C:\\Users\\prana\\OneDrive\\Desktop\\ADM ASSIGNMENT 1\\ADM\\Final Project\\ratings\\ratings.csv\" # <- Replace with your path.\n",
    "delimiter = \",\" # Replace if you're using a different delimiter."
   ]
  },
  {
   "cell_type": "code",
   "execution_count": 11,
   "id": "e54aa5d2",
   "metadata": {},
   "outputs": [],
   "source": [
    "# Get it as a pandas dataframe.\n",
    "total = pd.read_csv(original, sep = delimiter)"
   ]
  },
  {
   "cell_type": "code",
   "execution_count": 12,
   "id": "0b891a2d",
   "metadata": {},
   "outputs": [
    {
     "data": {
      "text/plain": [
       "(True,\n",
       " 1,\n",
       " 981756,\n",
       " [('slyhp/file0.txt', 'LOADED', 981756, 981756, 1, 0, None, None, None, None)])"
      ]
     },
     "execution_count": 12,
     "metadata": {},
     "output_type": "execute_result"
    }
   ],
   "source": [
    "# Actually write to the table in snowflake.\n",
    "write_pandas(conn, total, \"RATINGS\")"
   ]
  },
  {
   "cell_type": "code",
   "execution_count": 13,
   "id": "91dc1b01",
   "metadata": {},
   "outputs": [
    {
     "data": {
      "text/html": [
       "<div>\n",
       "<style scoped>\n",
       "    .dataframe tbody tr th:only-of-type {\n",
       "        vertical-align: middle;\n",
       "    }\n",
       "\n",
       "    .dataframe tbody tr th {\n",
       "        vertical-align: top;\n",
       "    }\n",
       "\n",
       "    .dataframe thead th {\n",
       "        text-align: right;\n",
       "    }\n",
       "</style>\n",
       "<table border=\"1\" class=\"dataframe\">\n",
       "  <thead>\n",
       "    <tr style=\"text-align: right;\">\n",
       "      <th></th>\n",
       "      <th>BOOK_ID</th>\n",
       "      <th>USER_ID</th>\n",
       "      <th>RATING</th>\n",
       "    </tr>\n",
       "  </thead>\n",
       "  <tbody>\n",
       "    <tr>\n",
       "      <th>0</th>\n",
       "      <td>1</td>\n",
       "      <td>314</td>\n",
       "      <td>5</td>\n",
       "    </tr>\n",
       "    <tr>\n",
       "      <th>1</th>\n",
       "      <td>1</td>\n",
       "      <td>439</td>\n",
       "      <td>3</td>\n",
       "    </tr>\n",
       "    <tr>\n",
       "      <th>2</th>\n",
       "      <td>1</td>\n",
       "      <td>588</td>\n",
       "      <td>5</td>\n",
       "    </tr>\n",
       "    <tr>\n",
       "      <th>3</th>\n",
       "      <td>1</td>\n",
       "      <td>1169</td>\n",
       "      <td>4</td>\n",
       "    </tr>\n",
       "    <tr>\n",
       "      <th>4</th>\n",
       "      <td>1</td>\n",
       "      <td>1185</td>\n",
       "      <td>4</td>\n",
       "    </tr>\n",
       "    <tr>\n",
       "      <th>...</th>\n",
       "      <td>...</td>\n",
       "      <td>...</td>\n",
       "      <td>...</td>\n",
       "    </tr>\n",
       "    <tr>\n",
       "      <th>285687</th>\n",
       "      <td>10000</td>\n",
       "      <td>48386</td>\n",
       "      <td>5</td>\n",
       "    </tr>\n",
       "    <tr>\n",
       "      <th>285688</th>\n",
       "      <td>10000</td>\n",
       "      <td>49007</td>\n",
       "      <td>4</td>\n",
       "    </tr>\n",
       "    <tr>\n",
       "      <th>285689</th>\n",
       "      <td>10000</td>\n",
       "      <td>49383</td>\n",
       "      <td>5</td>\n",
       "    </tr>\n",
       "    <tr>\n",
       "      <th>285690</th>\n",
       "      <td>10000</td>\n",
       "      <td>50124</td>\n",
       "      <td>5</td>\n",
       "    </tr>\n",
       "    <tr>\n",
       "      <th>285691</th>\n",
       "      <td>10000</td>\n",
       "      <td>51328</td>\n",
       "      <td>1</td>\n",
       "    </tr>\n",
       "  </tbody>\n",
       "</table>\n",
       "<p>981756 rows × 3 columns</p>\n",
       "</div>"
      ],
      "text/plain": [
       "        BOOK_ID  USER_ID  RATING\n",
       "0             1      314       5\n",
       "1             1      439       3\n",
       "2             1      588       5\n",
       "3             1     1169       4\n",
       "4             1     1185       4\n",
       "...         ...      ...     ...\n",
       "285687    10000    48386       5\n",
       "285688    10000    49007       4\n",
       "285689    10000    49383       5\n",
       "285690    10000    50124       5\n",
       "285691    10000    51328       1\n",
       "\n",
       "[981756 rows x 3 columns]"
      ]
     },
     "execution_count": 13,
     "metadata": {},
     "output_type": "execute_result"
    }
   ],
   "source": [
    "cur = conn.cursor()\n",
    "sql = \"select * from RATINGS\"\n",
    "cur.execute(sql)\n",
    " \n",
    "df = cur.fetch_pandas_all()\n",
    " \n",
    "df"
   ]
  }
 ],
 "metadata": {
  "kernelspec": {
   "display_name": "Python 3 (ipykernel)",
   "language": "python",
   "name": "python3"
  },
  "language_info": {
   "codemirror_mode": {
    "name": "ipython",
    "version": 3
   },
   "file_extension": ".py",
   "mimetype": "text/x-python",
   "name": "python",
   "nbconvert_exporter": "python",
   "pygments_lexer": "ipython3",
   "version": "3.9.7"
  }
 },
 "nbformat": 4,
 "nbformat_minor": 5
}
