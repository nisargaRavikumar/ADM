{
  "nbformat": 4,
  "nbformat_minor": 0,
  "metadata": {
    "colab": {
      "name": "Assignment 2",
      "provenance": [],
      "collapsed_sections": []
    },
    "kernelspec": {
      "name": "python3",
      "display_name": "Python 3"
    },
    "language_info": {
      "name": "python"
    }
  },
  "cells": [
    {
      "cell_type": "markdown",
      "metadata": {
        "id": "RdHRVH0QVN3O"
      },
      "source": [
        "Code to scrap comments from trustpilot website using BeutifulSoup in python"
      ]
    },
    {
      "cell_type": "code",
      "metadata": {
        "id": "UAJzXx_zUhcJ",
        "colab": {
          "base_uri": "https://localhost:8080/"
        },
        "outputId": "4b078064-a02c-420d-ad9b-4e1648a4071c"
      },
      "source": [
        "import bs4\n",
        "from urllib.request import urlopen\n",
        "from bs4 import BeautifulSoup as soup\n",
        "import requests, json\n",
        "import requests\n",
        "from lxml.html import fromstring\n",
        "\n",
        "my_url = 'https://www.trustpilot.com/review/www.bwear.com'\n",
        "\n",
        "# opening url and grabbing the web page\n",
        "uClient = urlopen(my_url)\n",
        "page_html = uClient.read()\n",
        "uClient.close()\n",
        "\n",
        "\n",
        "# html parsing\n",
        "page_soup = soup(page_html, 'html.parser')\n",
        "\n",
        "filename = \"trustpilotReviewss.csv\"\n",
        "f = open(filename, 'w',encoding=\"utf-8\")\n",
        "\n",
        "headers = \"Name, Headline, Reviews\\n\"\n",
        "\n",
        "f.write(headers)\n",
        "\n",
        "#containers = page_soup.findAll('script', {'type':'application/ld+json'})\n",
        "parsed_data = json.loads(page_soup.find('script',type='application/ld+json').string)\n",
        "containers = json.dumps(parsed_data,indent=4)\n",
        "containers = json.loads(containers)\n",
        "containers=containers[0]['review']\n",
        "\n",
        "for container in containers:\n",
        "    name=container['author']['name']\n",
        "    headline=container['headline']\n",
        "    reviewBody=container['reviewBody']\n",
        "    print('Name :',name)\n",
        "    print('Headline',headline)\n",
        "    print('Reviews',reviewBody)\n",
        "    \n",
        "    f.write(name + ',' + headline + ',' + reviewBody + '\\n')\n",
        "\n",
        "f.close()\n",
        "\n",
        "#print(containers)\n",
        "\n",
        "\n"
      ],
      "execution_count": null,
      "outputs": [
        {
          "output_type": "stream",
          "name": "stdout",
          "text": [
            "Name : Seven Mile Presbyterian\n",
            "Headline I love the shirts I have purchased from…\n",
            "Reviews I love the shirts I have purchased from B-Wear Sportswear.  I get many compliments about them. They come out of the dryer and all I have to do is fold them.\n",
            "Name : Melinda McDonald\n",
            "Headline This is my 3 order !\n",
            "Reviews This is my 3 order !! I love my shirts !! The size fits great and quality is excellent! Thank you !!\n",
            "Name : Renae Ress\n",
            "Headline Vey fast and easy transaction\n",
            "Reviews Vey fast and easy transaction. Also very satisfied with the quality of my order. Thank you B-wear.!!!\n",
            "Name : Jody\n",
            "Headline Fun and Fabulous!\n",
            "Reviews I always love the selection of fun t-shirts. My grown kids love getting them as gifts. Keep up the good work!\n",
            "Name : Sarah Percival\n",
            "Headline Great, fun shirts\n",
            "Reviews Love all the shirts, tank tops and sweatshirts I’ve gotten! The reason for the 3 stars is lack delay in shipment of product, ordered some Halloween shirts and didn’t get them until after Halloween! Yes, they are cute and fit great so I’m keeping them but wouldn’t have ordered them had I known it was going to take so long to get!\n",
            "Name : Ann Manning\n",
            "Headline Love my happy camper long sleeve…\n",
            "Reviews Love my happy camper long sleeve t-shirt,  great fit and I love the color.\n",
            "Name : Mindy\n",
            "Headline Always such cute things for every…\n",
            "Reviews Always such cute things for every holiday/season. Prices can't be beat!Super fast online service.\n",
            "Name : E. Marks\n",
            "Headline I love the tee shirts\n",
            "Reviews I love the tee shirts, They are well made and fit nicely. The ordering was easy and they shipped and arrived quickly.\n",
            "Name : melissa bradford\n",
            "Headline I have ordered several times from…\n",
            "Reviews I have ordered several times from B-Wear and I have never been disappointed.  I have ordered for friends and family and they love their shirts.\n",
            "Name : Carol Schommer\n",
            "Headline I have ordered many shirts & they are…\n",
            "Reviews I have ordered many shirts & they are all great quality & always fit well. I wish they had more Michigan clothes!\n",
            "Name : Anita Johnson\n",
            "Headline Shirts\n",
            "Reviews It’s so nice when you get your packages & loves my shirts.\n",
            "Name : Maureen Kimmitt\n",
            "Headline Great Gifts Too!\n",
            "Reviews Everything I’ve ever bought from B-Wear Sportswear is top notch, truly comfortable, reasonably priced clothing. If you haven’t tried it-you should.  Makes GREAT Christmas gifts too.  🎁\n",
            "Name : Rae\n",
            "Headline Love all the things I received\n",
            "Reviews Love all the things I received!  Thanks!\n",
            "Name : Debra Gist\n",
            "Headline You'll made it so easy to do a exchange…\n",
            "Reviews You'll made it so easy to do a exchange On my order, I will be ordering more..\n",
            "Name : Sylvia Poteete\n",
            "Headline All my shirts were great!\n",
            "Reviews All my shirts were great!\n",
            "Name : TJM\n",
            "Headline Lids arrived quickly and as ordered\n",
            "Reviews Lids arrived quickly and as ordered. Thanks y’all!\n",
            "Name : Tina Smith\n",
            "Headline I have ordered dozens and dozens of…\n",
            "Reviews I have ordered dozens and dozens of shirts and hoodies and hats from Bwear and have been absolutely tickled with every purchase. The quality and sizing is spot on! I get so excited every time a new season comes out, and get so many compliments when I wear them and give them as gifts!\n",
            "Name : Robin Epperson Atterton\n",
            "Headline Great quality!\n",
            "Reviews Great quality!\n",
            "Name : Becky Jett\n",
            "Headline I love my shirts\n",
            "Reviews I love my shirts! Thank you for honoring our Veterans!\n",
            "Name : Doreen Bonfigt\n",
            "Headline Good product and fast shipp8ng true to…\n",
            "Reviews Good product and fast shipp8ng true to size\n"
          ]
        }
      ]
    },
    {
      "cell_type": "markdown",
      "metadata": {
        "id": "CChJ7_jgWGQ4"
      },
      "source": [
        "installing google translator library which is used to detect language"
      ]
    },
    {
      "cell_type": "code",
      "metadata": {
        "id": "O8em1NFzEkiw"
      },
      "source": [
        ""
      ],
      "execution_count": null,
      "outputs": []
    },
    {
      "cell_type": "code",
      "metadata": {
        "id": "OTscn89bRZ9L",
        "colab": {
          "base_uri": "https://localhost:8080/"
        },
        "outputId": "39068317-022f-4689-d03d-6862b625dea4"
      },
      "source": [
        "!pip install googletrans==3.1.0a0"
      ],
      "execution_count": null,
      "outputs": [
        {
          "output_type": "stream",
          "name": "stdout",
          "text": [
            "Collecting googletrans==3.1.0a0\n",
            "  Downloading googletrans-3.1.0a0.tar.gz (19 kB)\n",
            "Collecting httpx==0.13.3\n",
            "  Downloading httpx-0.13.3-py3-none-any.whl (55 kB)\n",
            "\u001b[K     |████████████████████████████████| 55 kB 1.9 MB/s \n",
            "\u001b[?25hRequirement already satisfied: idna==2.* in /usr/local/lib/python3.7/dist-packages (from httpx==0.13.3->googletrans==3.1.0a0) (2.10)\n",
            "Requirement already satisfied: chardet==3.* in /usr/local/lib/python3.7/dist-packages (from httpx==0.13.3->googletrans==3.1.0a0) (3.0.4)\n",
            "Requirement already satisfied: certifi in /usr/local/lib/python3.7/dist-packages (from httpx==0.13.3->googletrans==3.1.0a0) (2021.10.8)\n",
            "Collecting httpcore==0.9.*\n",
            "  Downloading httpcore-0.9.1-py3-none-any.whl (42 kB)\n",
            "\u001b[K     |████████████████████████████████| 42 kB 1.2 MB/s \n",
            "\u001b[?25hCollecting sniffio\n",
            "  Downloading sniffio-1.2.0-py3-none-any.whl (10 kB)\n",
            "Collecting hstspreload\n",
            "  Downloading hstspreload-2021.11.1-py3-none-any.whl (1.3 MB)\n",
            "\u001b[K     |████████████████████████████████| 1.3 MB 8.7 MB/s \n",
            "\u001b[?25hCollecting rfc3986<2,>=1.3\n",
            "  Downloading rfc3986-1.5.0-py2.py3-none-any.whl (31 kB)\n",
            "Collecting h11<0.10,>=0.8\n",
            "  Downloading h11-0.9.0-py2.py3-none-any.whl (53 kB)\n",
            "\u001b[K     |████████████████████████████████| 53 kB 2.0 MB/s \n",
            "\u001b[?25hCollecting h2==3.*\n",
            "  Downloading h2-3.2.0-py2.py3-none-any.whl (65 kB)\n",
            "\u001b[K     |████████████████████████████████| 65 kB 3.2 MB/s \n",
            "\u001b[?25hCollecting hpack<4,>=3.0\n",
            "  Downloading hpack-3.0.0-py2.py3-none-any.whl (38 kB)\n",
            "Collecting hyperframe<6,>=5.2.0\n",
            "  Downloading hyperframe-5.2.0-py2.py3-none-any.whl (12 kB)\n",
            "Building wheels for collected packages: googletrans\n",
            "  Building wheel for googletrans (setup.py) ... \u001b[?25l\u001b[?25hdone\n",
            "  Created wheel for googletrans: filename=googletrans-3.1.0a0-py3-none-any.whl size=16367 sha256=68dcc0608da6b257d06e441069b116d9b1410a253ed912b9f4c69c25c0613a4a\n",
            "  Stored in directory: /root/.cache/pip/wheels/0c/be/fe/93a6a40ffe386e16089e44dad9018ebab9dc4cb9eb7eab65ae\n",
            "Successfully built googletrans\n",
            "Installing collected packages: hyperframe, hpack, sniffio, h2, h11, rfc3986, httpcore, hstspreload, httpx, googletrans\n",
            "Successfully installed googletrans-3.1.0a0 h11-0.9.0 h2-3.2.0 hpack-3.0.0 hstspreload-2021.11.1 httpcore-0.9.1 httpx-0.13.3 hyperframe-5.2.0 rfc3986-1.5.0 sniffio-1.2.0\n"
          ]
        }
      ]
    },
    {
      "cell_type": "markdown",
      "metadata": {
        "id": "muQNqSYiWmng"
      },
      "source": [
        "Rule Engine Code.\n",
        "\n"
      ]
    },
    {
      "cell_type": "code",
      "metadata": {
        "colab": {
          "base_uri": "https://localhost:8080/"
        },
        "id": "jRXKLa9R1D5i",
        "outputId": "5db706df-86b1-44b5-bbd0-f68f56f568ac"
      },
      "source": [
        "pip install langdetect"
      ],
      "execution_count": null,
      "outputs": [
        {
          "output_type": "stream",
          "name": "stdout",
          "text": [
            "Collecting langdetect\n",
            "  Downloading langdetect-1.0.9.tar.gz (981 kB)\n",
            "\u001b[?25l\r\u001b[K     |▍                               | 10 kB 24.8 MB/s eta 0:00:01\r\u001b[K     |▊                               | 20 kB 28.5 MB/s eta 0:00:01\r\u001b[K     |█                               | 30 kB 18.2 MB/s eta 0:00:01\r\u001b[K     |█▍                              | 40 kB 12.2 MB/s eta 0:00:01\r\u001b[K     |█▊                              | 51 kB 4.7 MB/s eta 0:00:01\r\u001b[K     |██                              | 61 kB 4.8 MB/s eta 0:00:01\r\u001b[K     |██▍                             | 71 kB 4.7 MB/s eta 0:00:01\r\u001b[K     |██▊                             | 81 kB 5.3 MB/s eta 0:00:01\r\u001b[K     |███                             | 92 kB 5.2 MB/s eta 0:00:01\r\u001b[K     |███▍                            | 102 kB 4.4 MB/s eta 0:00:01\r\u001b[K     |███▊                            | 112 kB 4.4 MB/s eta 0:00:01\r\u001b[K     |████                            | 122 kB 4.4 MB/s eta 0:00:01\r\u001b[K     |████▍                           | 133 kB 4.4 MB/s eta 0:00:01\r\u001b[K     |████▊                           | 143 kB 4.4 MB/s eta 0:00:01\r\u001b[K     |█████                           | 153 kB 4.4 MB/s eta 0:00:01\r\u001b[K     |█████▍                          | 163 kB 4.4 MB/s eta 0:00:01\r\u001b[K     |█████▊                          | 174 kB 4.4 MB/s eta 0:00:01\r\u001b[K     |██████                          | 184 kB 4.4 MB/s eta 0:00:01\r\u001b[K     |██████▍                         | 194 kB 4.4 MB/s eta 0:00:01\r\u001b[K     |██████▊                         | 204 kB 4.4 MB/s eta 0:00:01\r\u001b[K     |███████                         | 215 kB 4.4 MB/s eta 0:00:01\r\u001b[K     |███████▍                        | 225 kB 4.4 MB/s eta 0:00:01\r\u001b[K     |███████▊                        | 235 kB 4.4 MB/s eta 0:00:01\r\u001b[K     |████████                        | 245 kB 4.4 MB/s eta 0:00:01\r\u001b[K     |████████▍                       | 256 kB 4.4 MB/s eta 0:00:01\r\u001b[K     |████████▊                       | 266 kB 4.4 MB/s eta 0:00:01\r\u001b[K     |█████████                       | 276 kB 4.4 MB/s eta 0:00:01\r\u001b[K     |█████████▍                      | 286 kB 4.4 MB/s eta 0:00:01\r\u001b[K     |█████████▊                      | 296 kB 4.4 MB/s eta 0:00:01\r\u001b[K     |██████████                      | 307 kB 4.4 MB/s eta 0:00:01\r\u001b[K     |██████████▍                     | 317 kB 4.4 MB/s eta 0:00:01\r\u001b[K     |██████████▊                     | 327 kB 4.4 MB/s eta 0:00:01\r\u001b[K     |███████████                     | 337 kB 4.4 MB/s eta 0:00:01\r\u001b[K     |███████████▍                    | 348 kB 4.4 MB/s eta 0:00:01\r\u001b[K     |███████████▊                    | 358 kB 4.4 MB/s eta 0:00:01\r\u001b[K     |████████████                    | 368 kB 4.4 MB/s eta 0:00:01\r\u001b[K     |████████████▍                   | 378 kB 4.4 MB/s eta 0:00:01\r\u001b[K     |████████████▊                   | 389 kB 4.4 MB/s eta 0:00:01\r\u001b[K     |█████████████                   | 399 kB 4.4 MB/s eta 0:00:01\r\u001b[K     |█████████████▍                  | 409 kB 4.4 MB/s eta 0:00:01\r\u001b[K     |█████████████▊                  | 419 kB 4.4 MB/s eta 0:00:01\r\u001b[K     |██████████████                  | 430 kB 4.4 MB/s eta 0:00:01\r\u001b[K     |██████████████▍                 | 440 kB 4.4 MB/s eta 0:00:01\r\u001b[K     |██████████████▊                 | 450 kB 4.4 MB/s eta 0:00:01\r\u001b[K     |███████████████                 | 460 kB 4.4 MB/s eta 0:00:01\r\u001b[K     |███████████████▍                | 471 kB 4.4 MB/s eta 0:00:01\r\u001b[K     |███████████████▊                | 481 kB 4.4 MB/s eta 0:00:01\r\u001b[K     |████████████████                | 491 kB 4.4 MB/s eta 0:00:01\r\u001b[K     |████████████████▍               | 501 kB 4.4 MB/s eta 0:00:01\r\u001b[K     |████████████████▊               | 512 kB 4.4 MB/s eta 0:00:01\r\u001b[K     |█████████████████               | 522 kB 4.4 MB/s eta 0:00:01\r\u001b[K     |█████████████████▍              | 532 kB 4.4 MB/s eta 0:00:01\r\u001b[K     |█████████████████▊              | 542 kB 4.4 MB/s eta 0:00:01\r\u001b[K     |██████████████████              | 552 kB 4.4 MB/s eta 0:00:01\r\u001b[K     |██████████████████▍             | 563 kB 4.4 MB/s eta 0:00:01\r\u001b[K     |██████████████████▊             | 573 kB 4.4 MB/s eta 0:00:01\r\u001b[K     |███████████████████             | 583 kB 4.4 MB/s eta 0:00:01\r\u001b[K     |███████████████████▍            | 593 kB 4.4 MB/s eta 0:00:01\r\u001b[K     |███████████████████▊            | 604 kB 4.4 MB/s eta 0:00:01\r\u001b[K     |████████████████████            | 614 kB 4.4 MB/s eta 0:00:01\r\u001b[K     |████████████████████▍           | 624 kB 4.4 MB/s eta 0:00:01\r\u001b[K     |████████████████████▊           | 634 kB 4.4 MB/s eta 0:00:01\r\u001b[K     |█████████████████████           | 645 kB 4.4 MB/s eta 0:00:01\r\u001b[K     |█████████████████████▍          | 655 kB 4.4 MB/s eta 0:00:01\r\u001b[K     |█████████████████████▊          | 665 kB 4.4 MB/s eta 0:00:01\r\u001b[K     |██████████████████████          | 675 kB 4.4 MB/s eta 0:00:01\r\u001b[K     |██████████████████████▍         | 686 kB 4.4 MB/s eta 0:00:01\r\u001b[K     |██████████████████████▊         | 696 kB 4.4 MB/s eta 0:00:01\r\u001b[K     |███████████████████████         | 706 kB 4.4 MB/s eta 0:00:01\r\u001b[K     |███████████████████████▍        | 716 kB 4.4 MB/s eta 0:00:01\r\u001b[K     |███████████████████████▊        | 727 kB 4.4 MB/s eta 0:00:01\r\u001b[K     |████████████████████████        | 737 kB 4.4 MB/s eta 0:00:01\r\u001b[K     |████████████████████████▍       | 747 kB 4.4 MB/s eta 0:00:01\r\u001b[K     |████████████████████████▊       | 757 kB 4.4 MB/s eta 0:00:01\r\u001b[K     |█████████████████████████       | 768 kB 4.4 MB/s eta 0:00:01\r\u001b[K     |█████████████████████████▍      | 778 kB 4.4 MB/s eta 0:00:01\r\u001b[K     |█████████████████████████▊      | 788 kB 4.4 MB/s eta 0:00:01\r\u001b[K     |██████████████████████████      | 798 kB 4.4 MB/s eta 0:00:01\r\u001b[K     |██████████████████████████▍     | 808 kB 4.4 MB/s eta 0:00:01\r\u001b[K     |██████████████████████████▊     | 819 kB 4.4 MB/s eta 0:00:01\r\u001b[K     |███████████████████████████     | 829 kB 4.4 MB/s eta 0:00:01\r\u001b[K     |███████████████████████████▍    | 839 kB 4.4 MB/s eta 0:00:01\r\u001b[K     |███████████████████████████▊    | 849 kB 4.4 MB/s eta 0:00:01\r\u001b[K     |████████████████████████████    | 860 kB 4.4 MB/s eta 0:00:01\r\u001b[K     |████████████████████████████▍   | 870 kB 4.4 MB/s eta 0:00:01\r\u001b[K     |████████████████████████████▊   | 880 kB 4.4 MB/s eta 0:00:01\r\u001b[K     |█████████████████████████████   | 890 kB 4.4 MB/s eta 0:00:01\r\u001b[K     |█████████████████████████████▍  | 901 kB 4.4 MB/s eta 0:00:01\r\u001b[K     |█████████████████████████████▊  | 911 kB 4.4 MB/s eta 0:00:01\r\u001b[K     |██████████████████████████████  | 921 kB 4.4 MB/s eta 0:00:01\r\u001b[K     |██████████████████████████████▍ | 931 kB 4.4 MB/s eta 0:00:01\r\u001b[K     |██████████████████████████████▊ | 942 kB 4.4 MB/s eta 0:00:01\r\u001b[K     |███████████████████████████████ | 952 kB 4.4 MB/s eta 0:00:01\r\u001b[K     |███████████████████████████████▍| 962 kB 4.4 MB/s eta 0:00:01\r\u001b[K     |███████████████████████████████▊| 972 kB 4.4 MB/s eta 0:00:01\r\u001b[K     |████████████████████████████████| 981 kB 4.4 MB/s \n",
            "\u001b[?25hRequirement already satisfied: six in /usr/local/lib/python3.7/dist-packages (from langdetect) (1.15.0)\n",
            "Building wheels for collected packages: langdetect\n",
            "  Building wheel for langdetect (setup.py) ... \u001b[?25l\u001b[?25hdone\n",
            "  Created wheel for langdetect: filename=langdetect-1.0.9-py3-none-any.whl size=993242 sha256=e360b2ba982b9e94fa35401bc5bcaec55c33c646834bebd88d22d067c5a5eb8f\n",
            "  Stored in directory: /root/.cache/pip/wheels/c5/96/8a/f90c59ed25d75e50a8c10a1b1c2d4c402e4dacfa87f3aff36a\n",
            "Successfully built langdetect\n",
            "Installing collected packages: langdetect\n",
            "Successfully installed langdetect-1.0.9\n"
          ]
        }
      ]
    },
    {
      "cell_type": "code",
      "metadata": {
        "id": "ejYUip-m08y9"
      },
      "source": [
        "import pandas as pd\n",
        "import re\n",
        "import csv\n",
        "import urllib.request\n",
        "from io import StringIO\n",
        "from langdetect import detect\n",
        "\n",
        "detector = Translator()\n",
        "\n",
        "col=['Review']\n",
        "\n",
        "# Read the csv file into a StringIO object\n",
        "df = pd.read_csv(\"https://first-us-east-2-bucket.s3.amazonaws.com/combined-csv-files1.csv\")\n",
        "\n",
        "filename = \"FinalOutputReviewStatuss.csv\"\n",
        "f = open(filename, 'w', encoding='utf-8')\n",
        "\n",
        "headers = \"Reviews, Status\\n\"\n",
        "\n",
        "f.write(headers)\n",
        "\n",
        "for review in df['Review']:\n",
        "    #Calulating charachter Len of comment\n",
        "    reviewLen = int(len(review))\n",
        "\n",
        "    #Regex Function to detect \n",
        "    regex = r\"(?i)\\b((?:https?://|www\\d{0,3}[.]|[a-z0-9.\\-]+[.][a-z]{2,4}/)(?:[^\\s()<>]+|\\(([^\\s()<>]+|(\\([^\\s()<>]+\\)))*\\))+(?:\\(([^\\s()<>]+|(\\([^\\s()<>]+\\)))*\\)|[^\\s`!()\\[\\]{};:'\\\".,<>?«»“”‘’]))\"\n",
        "    url = re.findall(regex,review)\n",
        "\n",
        "    #List of offensive words and Checking if review has any listed offensive word\n",
        "    offense_services = [\"bad\", \"terrible\", \"rubbish\",\"insane\" ,\"garbage\"]\n",
        "    offense_contains_service = review.lower() in (string.lower() for string in offense_services)\n",
        "    \n",
        "    #Decoding utf encoded string and detecting the language in review\n",
        "    Reviews = review.replace('\"','')\n",
        "    Reviews = '\"'+Reviews+'\"'\n",
        "    Rev=Reviews.encode('utf-8').decode()\n",
        "    dec_lan = detect(Rev)\n",
        "    \n",
        "    #Conditions flags the reviews having characted length less than 100\n",
        "    if(reviewLen<100):\n",
        "            Reviews = Reviews\n",
        "            Status = 'Flagged'\n",
        "    #Condition flags the review which has url in it\n",
        "    elif(len(url)>0):\n",
        "            Reviews = Reviews\n",
        "            Status = 'Flagged'\n",
        "    #Condition flags the review if it has any listed offensive words\n",
        "    elif(offense_contains_service==True):\n",
        "            Reviews = Reviews\n",
        "            Status = 'Flagged'\n",
        "    \n",
        "    #Condition flags the review if it's written in any other language than English\n",
        "    elif(dec_lan != \"en\"):\n",
        "            Reviews = Reviews\n",
        "            Status = 'Flagged'\n",
        "    #Rest all review will be published\n",
        "    else:\n",
        "            Reviews = Reviews\n",
        "            Status = 'Published'\n",
        "        \n",
        "        \n",
        "    print(\"Reviews:\" + Reviews)\n",
        "    print(\"Status:\" + Status)\n",
        "    print(dec_lan)\n",
        "    \n",
        "    f.write(Reviews+ ',' + Status + '\\n')\n",
        "    \n",
        "\n",
        "f.close()"
      ],
      "execution_count": null,
      "outputs": []
    }
  ]
}