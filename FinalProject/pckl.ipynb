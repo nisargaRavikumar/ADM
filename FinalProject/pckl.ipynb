{
 "cells": [
  {
   "cell_type": "code",
   "execution_count": null,
   "id": "2b095b5e",
   "metadata": {},
   "outputs": [],
   "source": [
    "import pickle\n",
    "pickle_in = open('classifier.pkl', 'rb')\n",
    "classifier = pickle.load(pickle_in)\n",
    "\n",
    "#Defining a function that will recommend top 5 books\n",
    "def recommend(user_id):\n",
    "    books = pd.read_csv(r'C:\\Users\\nisar\\Downloads\\ADMProj\\books_cleaned.csv')\n",
    "    ratings = pd.read_csv(r'C:\\Users\\nisar\\Downloads\\ADMProj\\ratings.csv')\n",
    "  \n",
    "    book_id = list(ratings.book_id.unique()) #grabbing all the unique books\n",
    "  \n",
    "    book_arr = np.array(book_id) #geting all book IDs and storing them in the form of an array\n",
    "    user_arr = np.array([user_id for i in range(len(book_id))])\n",
    "    prediction = model.predict([book_arr, user_arr])\n",
    "  \n",
    "    prediction = prediction.reshape(-1) #reshape to single dimension\n",
    "    prediction_ids = np.argsort(-prediction)[0:5]\n",
    "\n",
    "    recommended_books = pd.DataFrame(books.iloc[prediction_ids], columns = ['book_id', 'isbn', 'authors', 'title', 'average_rating' ])\n",
    "    print('Top 5 recommended books for you: \\n')\n",
    "    return recommended_books\n",
    "\n",
    "\n",
    "# In[1]:\n",
    "\n",
    "\n",
    "ratings.user_id.unique().max()\n",
    "\n",
    "\n",
    "# In[31]:\n",
    "\n",
    "\n",
    "#Enter a number between 1 and 53424\n",
    "recommend(789)"
   ]
  }
 ],
 "metadata": {
  "kernelspec": {
   "display_name": "Python 3 (ipykernel)",
   "language": "python",
   "name": "python3"
  },
  "language_info": {
   "codemirror_mode": {
    "name": "ipython",
    "version": 3
   },
   "file_extension": ".py",
   "mimetype": "text/x-python",
   "name": "python",
   "nbconvert_exporter": "python",
   "pygments_lexer": "ipython3",
   "version": "3.9.7"
  }
 },
 "nbformat": 4,
 "nbformat_minor": 5
}
