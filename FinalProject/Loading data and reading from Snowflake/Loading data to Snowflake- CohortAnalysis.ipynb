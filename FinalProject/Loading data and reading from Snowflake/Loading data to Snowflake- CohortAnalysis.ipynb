{
 "cells": [
  {
   "cell_type": "code",
   "execution_count": 1,
   "id": "281612a5",
   "metadata": {},
   "outputs": [
    {
     "name": "stdout",
     "output_type": "stream",
     "text": [
      "Requirement already satisfied: snowflake-connector-python in c:\\users\\prana\\appdata\\local\\programs\\python\\python39\\lib\\site-packages (2.6.2)\n",
      "Requirement already satisfied: pyOpenSSL<21.0.0,>=16.2.0 in c:\\users\\prana\\appdata\\local\\programs\\python\\python39\\lib\\site-packages (from snowflake-connector-python) (20.0.1)\n",
      "Requirement already satisfied: azure-common<2.0.0 in c:\\users\\prana\\appdata\\local\\programs\\python\\python39\\lib\\site-packages (from snowflake-connector-python) (1.1.27)\n",
      "Requirement already satisfied: requests<3.0.0 in c:\\users\\prana\\appdata\\local\\programs\\python\\python39\\lib\\site-packages (from snowflake-connector-python) (2.26.0)\n",
      "Requirement already satisfied: setuptools>34.0.0 in c:\\users\\prana\\appdata\\local\\programs\\python\\python39\\lib\\site-packages (from snowflake-connector-python) (57.4.0)\n",
      "Requirement already satisfied: idna<4,>=2.5 in c:\\users\\prana\\appdata\\local\\programs\\python\\python39\\lib\\site-packages (from snowflake-connector-python) (3.3)\n",
      "Requirement already satisfied: azure-storage-blob<13.0.0,>=12.0.0 in c:\\users\\prana\\appdata\\local\\programs\\python\\python39\\lib\\site-packages (from snowflake-connector-python) (12.9.0)\n",
      "Requirement already satisfied: cryptography<4.0.0,>=2.5.0 in c:\\users\\prana\\appdata\\local\\programs\\python\\python39\\lib\\site-packages (from snowflake-connector-python) (3.4.8)\n",
      "Requirement already satisfied: asn1crypto<2.0.0,>0.24.0 in c:\\users\\prana\\appdata\\local\\programs\\python\\python39\\lib\\site-packages (from snowflake-connector-python) (1.4.0)\n",
      "Requirement already satisfied: charset-normalizer~=2.0.0 in c:\\users\\prana\\appdata\\local\\programs\\python\\python39\\lib\\site-packages (from snowflake-connector-python) (2.0.7)\n",
      "Requirement already satisfied: cffi<2.0.0,>=1.9 in c:\\users\\prana\\appdata\\local\\programs\\python\\python39\\lib\\site-packages (from snowflake-connector-python) (1.14.6)\n",
      "Requirement already satisfied: boto3<2.0.0,>=1.4.4 in c:\\users\\prana\\appdata\\local\\programs\\python\\python39\\lib\\site-packages (from snowflake-connector-python) (1.18.63)\n",
      "Requirement already satisfied: oscrypto<2.0.0 in c:\\users\\prana\\appdata\\local\\programs\\python\\python39\\lib\\site-packages (from snowflake-connector-python) (1.2.1)\n",
      "Requirement already satisfied: pycryptodomex!=3.5.0,<4.0.0,>=3.2 in c:\\users\\prana\\appdata\\local\\programs\\python\\python39\\lib\\site-packages (from snowflake-connector-python) (3.11.0)\n",
      "Requirement already satisfied: pyjwt<3.0.0 in c:\\users\\prana\\appdata\\local\\programs\\python\\python39\\lib\\site-packages (from snowflake-connector-python) (2.3.0)\n",
      "Requirement already satisfied: certifi>=2017.4.17 in c:\\users\\prana\\appdata\\local\\programs\\python\\python39\\lib\\site-packages (from snowflake-connector-python) (2021.10.8)\n",
      "Requirement already satisfied: pytz in c:\\users\\prana\\appdata\\local\\programs\\python\\python39\\lib\\site-packages (from snowflake-connector-python) (2021.3)\n",
      "Requirement already satisfied: msrest>=0.6.21 in c:\\users\\prana\\appdata\\local\\programs\\python\\python39\\lib\\site-packages (from azure-storage-blob<13.0.0,>=12.0.0->snowflake-connector-python) (0.6.21)\n",
      "Requirement already satisfied: azure-core<2.0.0,>=1.10.0 in c:\\users\\prana\\appdata\\local\\programs\\python\\python39\\lib\\site-packages (from azure-storage-blob<13.0.0,>=12.0.0->snowflake-connector-python) (1.19.0)\n",
      "Requirement already satisfied: botocore<1.22.0,>=1.21.63 in c:\\users\\prana\\appdata\\local\\programs\\python\\python39\\lib\\site-packages (from boto3<2.0.0,>=1.4.4->snowflake-connector-python) (1.21.63)\n",
      "Requirement already satisfied: s3transfer<0.6.0,>=0.5.0 in c:\\users\\prana\\appdata\\local\\programs\\python\\python39\\lib\\site-packages (from boto3<2.0.0,>=1.4.4->snowflake-connector-python) (0.5.0)\n",
      "Requirement already satisfied: jmespath<1.0.0,>=0.7.1 in c:\\users\\prana\\appdata\\local\\programs\\python\\python39\\lib\\site-packages (from boto3<2.0.0,>=1.4.4->snowflake-connector-python) (0.10.0)\n",
      "Requirement already satisfied: pycparser in c:\\users\\prana\\appdata\\local\\programs\\python\\python39\\lib\\site-packages (from cffi<2.0.0,>=1.9->snowflake-connector-python) (2.20)\n",
      "Requirement already satisfied: six>=1.5.2 in c:\\users\\prana\\appdata\\local\\programs\\python\\python39\\lib\\site-packages (from pyOpenSSL<21.0.0,>=16.2.0->snowflake-connector-python) (1.16.0)\n",
      "Requirement already satisfied: urllib3<1.27,>=1.21.1 in c:\\users\\prana\\appdata\\local\\programs\\python\\python39\\lib\\site-packages (from requests<3.0.0->snowflake-connector-python) (1.26.7)\n",
      "Requirement already satisfied: python-dateutil<3.0.0,>=2.1 in c:\\users\\prana\\appdata\\local\\programs\\python\\python39\\lib\\site-packages (from botocore<1.22.0,>=1.21.63->boto3<2.0.0,>=1.4.4->snowflake-connector-python) (2.8.2)\n",
      "Requirement already satisfied: requests-oauthlib>=0.5.0 in c:\\users\\prana\\appdata\\local\\programs\\python\\python39\\lib\\site-packages (from msrest>=0.6.21->azure-storage-blob<13.0.0,>=12.0.0->snowflake-connector-python) (1.3.0)\n",
      "Requirement already satisfied: isodate>=0.6.0 in c:\\users\\prana\\appdata\\local\\programs\\python\\python39\\lib\\site-packages (from msrest>=0.6.21->azure-storage-blob<13.0.0,>=12.0.0->snowflake-connector-python) (0.6.0)\n",
      "Requirement already satisfied: oauthlib>=3.0.0 in c:\\users\\prana\\appdata\\local\\programs\\python\\python39\\lib\\site-packages (from requests-oauthlib>=0.5.0->msrest>=0.6.21->azure-storage-blob<13.0.0,>=12.0.0->snowflake-connector-python) (3.1.1)\n",
      "Note: you may need to restart the kernel to use updated packages.\n"
     ]
    }
   ],
   "source": [
    "pip install snowflake-connector-python"
   ]
  },
  {
   "cell_type": "code",
   "execution_count": 2,
   "id": "40ea0319",
   "metadata": {},
   "outputs": [],
   "source": [
    "# Importing the required packages for all your data framing needs.\n",
    "import pandas as pd"
   ]
  },
  {
   "cell_type": "code",
   "execution_count": 3,
   "id": "5da22a5b",
   "metadata": {},
   "outputs": [],
   "source": [
    "# The Snowflake Connector library.\n",
    "import snowflake.connector as snow\n",
    "from snowflake.connector.pandas_tools import write_pandas"
   ]
  },
  {
   "cell_type": "code",
   "execution_count": 4,
   "id": "8a989667",
   "metadata": {},
   "outputs": [],
   "source": [
    "## Phase I: Truncate/Delete the current data in the table\n",
    "# The connector...\n",
    "conn = snow.connect(user=\"pranaliv95\",\n",
    "   password=\"\",\n",
    "   account=\"yv43311.us-east-2.aws\",\n",
    "   # (the prefix in your snowflake space... for example, \n",
    "   # company.snowflakecomputing.com would just be \"company\" as the ACCOUNT name)\n",
    "   #warehouse=\"WAREHOUSE\",\n",
    "   database=\"BOOK_RECOMMENDATION\",\n",
    "   schema=\"PUBLIC\")"
   ]
  },
  {
   "cell_type": "code",
   "execution_count": 5,
   "id": "fdcdd67b",
   "metadata": {},
   "outputs": [],
   "source": [
    "# Create a cursor object.\n",
    "cur = conn.cursor()"
   ]
  },
  {
   "cell_type": "code",
   "execution_count": 6,
   "id": "0083b242",
   "metadata": {},
   "outputs": [
    {
     "data": {
      "text/plain": [
       "<snowflake.connector.cursor.SnowflakeCursor at 0x243d31a5310>"
      ]
     },
     "execution_count": 6,
     "metadata": {},
     "output_type": "execute_result"
    }
   ],
   "source": [
    "sql = \"USE ROLE SYSADMIN\"\n",
    "cur.execute(sql)"
   ]
  },
  {
   "cell_type": "code",
   "execution_count": 7,
   "id": "a34a2b6b",
   "metadata": {},
   "outputs": [
    {
     "data": {
      "text/plain": [
       "<snowflake.connector.cursor.SnowflakeCursor at 0x243d31a5310>"
      ]
     },
     "execution_count": 7,
     "metadata": {},
     "output_type": "execute_result"
    }
   ],
   "source": [
    "# And then use it.\n",
    "sql = \"USE DATABASE BOOK_RECOMMENDATION\"\n",
    "cur.execute(sql)"
   ]
  },
  {
   "cell_type": "code",
   "execution_count": 8,
   "id": "78a52533",
   "metadata": {},
   "outputs": [
    {
     "data": {
      "text/plain": [
       "<snowflake.connector.cursor.SnowflakeCursor at 0x243d31a5310>"
      ]
     },
     "execution_count": 8,
     "metadata": {},
     "output_type": "execute_result"
    }
   ],
   "source": [
    "# And then use it.\n",
    "sql = \"USE SCHEMA PUBLIC\"\n",
    "cur.execute(sql)"
   ]
  },
  {
   "cell_type": "code",
   "execution_count": 9,
   "id": "9e79db91",
   "metadata": {},
   "outputs": [
    {
     "data": {
      "text/plain": [
       "<snowflake.connector.cursor.SnowflakeCursor at 0x243d31a5310>"
      ]
     },
     "execution_count": 9,
     "metadata": {},
     "output_type": "execute_result"
    }
   ],
   "source": [
    "sql = (\"CREATE OR REPLACE TABLE COHORT_ANALYSIS\"\n",
    "      \"(BOOK_ID numeric, USER_ID numeric, DATE date, PRICE numeric, TRANSACTION_TYPE string)\")\n",
    "\n",
    "cur.execute(sql)"
   ]
  },
  {
   "cell_type": "code",
   "execution_count": 10,
   "id": "ef16e3f9",
   "metadata": {},
   "outputs": [],
   "source": [
    "## Phase II: Upload from the Exported Data File.\n",
    "# Let's import a new dataframe so that we can test this.\n",
    "original = r\"C:\\Users\\prana\\OneDrive\\Desktop\\ADM ASSIGNMENT 1\\ADM\\Final Project\\CohortAnalysisData.csv\" # <- Replace with your path.\n",
    "delimiter = \",\" # Replace if you're using a different delimiter."
   ]
  },
  {
   "cell_type": "code",
   "execution_count": 11,
   "id": "ebaa0367",
   "metadata": {},
   "outputs": [],
   "source": [
    "# Get it as a pandas dataframe.\n",
    "total = pd.read_csv(original, sep = delimiter)"
   ]
  },
  {
   "cell_type": "code",
   "execution_count": 12,
   "id": "f13b4cde",
   "metadata": {},
   "outputs": [
    {
     "data": {
      "text/plain": [
       "(True,\n",
       " 1,\n",
       " 981756,\n",
       " [('hubye/file0.txt', 'LOADED', 981756, 981756, 1, 0, None, None, None, None)])"
      ]
     },
     "execution_count": 12,
     "metadata": {},
     "output_type": "execute_result"
    }
   ],
   "source": [
    "# Actually write to the table in snowflake.\n",
    "write_pandas(conn, total, \"COHORT_ANALYSIS\")"
   ]
  },
  {
   "cell_type": "code",
   "execution_count": 13,
   "id": "86e4210a",
   "metadata": {},
   "outputs": [
    {
     "data": {
      "text/html": [
       "<div>\n",
       "<style scoped>\n",
       "    .dataframe tbody tr th:only-of-type {\n",
       "        vertical-align: middle;\n",
       "    }\n",
       "\n",
       "    .dataframe tbody tr th {\n",
       "        vertical-align: top;\n",
       "    }\n",
       "\n",
       "    .dataframe thead th {\n",
       "        text-align: right;\n",
       "    }\n",
       "</style>\n",
       "<table border=\"1\" class=\"dataframe\">\n",
       "  <thead>\n",
       "    <tr style=\"text-align: right;\">\n",
       "      <th></th>\n",
       "      <th>BOOK_ID</th>\n",
       "      <th>USER_ID</th>\n",
       "      <th>DATE</th>\n",
       "      <th>PRICE</th>\n",
       "      <th>TRANSACTION_TYPE</th>\n",
       "    </tr>\n",
       "  </thead>\n",
       "  <tbody>\n",
       "    <tr>\n",
       "      <th>0</th>\n",
       "      <td>1</td>\n",
       "      <td>314</td>\n",
       "      <td>2018-05-18</td>\n",
       "      <td>191</td>\n",
       "      <td>ordered</td>\n",
       "    </tr>\n",
       "    <tr>\n",
       "      <th>1</th>\n",
       "      <td>1</td>\n",
       "      <td>439</td>\n",
       "      <td>2015-07-18</td>\n",
       "      <td>242</td>\n",
       "      <td>ordered</td>\n",
       "    </tr>\n",
       "    <tr>\n",
       "      <th>2</th>\n",
       "      <td>1</td>\n",
       "      <td>588</td>\n",
       "      <td>2016-10-30</td>\n",
       "      <td>282</td>\n",
       "      <td>ordered</td>\n",
       "    </tr>\n",
       "    <tr>\n",
       "      <th>3</th>\n",
       "      <td>1</td>\n",
       "      <td>1169</td>\n",
       "      <td>2015-08-28</td>\n",
       "      <td>378</td>\n",
       "      <td>sample</td>\n",
       "    </tr>\n",
       "    <tr>\n",
       "      <th>4</th>\n",
       "      <td>1</td>\n",
       "      <td>1185</td>\n",
       "      <td>2017-06-23</td>\n",
       "      <td>131</td>\n",
       "      <td>ordered</td>\n",
       "    </tr>\n",
       "    <tr>\n",
       "      <th>...</th>\n",
       "      <td>...</td>\n",
       "      <td>...</td>\n",
       "      <td>...</td>\n",
       "      <td>...</td>\n",
       "      <td>...</td>\n",
       "    </tr>\n",
       "    <tr>\n",
       "      <th>304435</th>\n",
       "      <td>10000</td>\n",
       "      <td>48386</td>\n",
       "      <td>2018-12-08</td>\n",
       "      <td>67</td>\n",
       "      <td>ordered</td>\n",
       "    </tr>\n",
       "    <tr>\n",
       "      <th>304436</th>\n",
       "      <td>10000</td>\n",
       "      <td>49007</td>\n",
       "      <td>2016-04-15</td>\n",
       "      <td>99</td>\n",
       "      <td>ordered</td>\n",
       "    </tr>\n",
       "    <tr>\n",
       "      <th>304437</th>\n",
       "      <td>10000</td>\n",
       "      <td>49383</td>\n",
       "      <td>2016-05-25</td>\n",
       "      <td>308</td>\n",
       "      <td>ordered</td>\n",
       "    </tr>\n",
       "    <tr>\n",
       "      <th>304438</th>\n",
       "      <td>10000</td>\n",
       "      <td>50124</td>\n",
       "      <td>2016-10-07</td>\n",
       "      <td>340</td>\n",
       "      <td>ordered</td>\n",
       "    </tr>\n",
       "    <tr>\n",
       "      <th>304439</th>\n",
       "      <td>10000</td>\n",
       "      <td>51328</td>\n",
       "      <td>2018-04-20</td>\n",
       "      <td>136</td>\n",
       "      <td>sample</td>\n",
       "    </tr>\n",
       "  </tbody>\n",
       "</table>\n",
       "<p>981756 rows × 5 columns</p>\n",
       "</div>"
      ],
      "text/plain": [
       "        BOOK_ID  USER_ID        DATE  PRICE TRANSACTION_TYPE\n",
       "0             1      314  2018-05-18    191          ordered\n",
       "1             1      439  2015-07-18    242          ordered\n",
       "2             1      588  2016-10-30    282          ordered\n",
       "3             1     1169  2015-08-28    378           sample\n",
       "4             1     1185  2017-06-23    131          ordered\n",
       "...         ...      ...         ...    ...              ...\n",
       "304435    10000    48386  2018-12-08     67          ordered\n",
       "304436    10000    49007  2016-04-15     99          ordered\n",
       "304437    10000    49383  2016-05-25    308          ordered\n",
       "304438    10000    50124  2016-10-07    340          ordered\n",
       "304439    10000    51328  2018-04-20    136           sample\n",
       "\n",
       "[981756 rows x 5 columns]"
      ]
     },
     "execution_count": 13,
     "metadata": {},
     "output_type": "execute_result"
    }
   ],
   "source": [
    "cur = conn.cursor()\n",
    "sql = \"select * from COHORT_ANALYSIS\"\n",
    "cur.execute(sql)\n",
    " \n",
    "df = cur.fetch_pandas_all()\n",
    " \n",
    "df"
   ]
  },
  {
   "cell_type": "code",
   "execution_count": null,
   "id": "16457a37",
   "metadata": {},
   "outputs": [],
   "source": []
  }
 ],
 "metadata": {
  "kernelspec": {
   "display_name": "Python 3 (ipykernel)",
   "language": "python",
   "name": "python3"
  },
  "language_info": {
   "codemirror_mode": {
    "name": "ipython",
    "version": 3
   },
   "file_extension": ".py",
   "mimetype": "text/x-python",
   "name": "python",
   "nbconvert_exporter": "python",
   "pygments_lexer": "ipython3",
   "version": "3.9.7"
  }
 },
 "nbformat": 4,
 "nbformat_minor": 5
}
