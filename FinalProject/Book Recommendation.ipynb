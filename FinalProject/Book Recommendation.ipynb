{
 "cells": [
  {
   "cell_type": "code",
   "execution_count": 19,
   "id": "4db78e18",
   "metadata": {},
   "outputs": [],
   "source": [
    "import numpy as np\n",
    "import pandas as pd\n",
    "import matplotlib.pyplot as plt\n",
    "import seaborn as sns\n",
    "import tensorflow as tf\n",
    "import os\n",
    "import warnings\n",
    "import joblib\n",
    "warnings.filterwarnings('ignore')"
   ]
  },
  {
   "cell_type": "code",
   "execution_count": 3,
   "id": "0cad6250",
   "metadata": {},
   "outputs": [],
   "source": [
    "books = pd.read_csv(r'C:\\Users\\nisar\\Downloads\\ADMProj\\books.csv')\n",
    "\n",
    "ratings = pd.read_csv(r'C:\\Users\\nisar\\Downloads\\ADMProj\\ratings.csv')"
   ]
  },
  {
   "cell_type": "markdown",
   "id": "135372b0",
   "metadata": {},
   "source": [
    "   # Data Preprocessing"
   ]
  },
  {
   "cell_type": "code",
   "execution_count": 4,
   "id": "75aaf9ae",
   "metadata": {},
   "outputs": [
    {
     "data": {
      "text/plain": [
       "Index(['id', 'book_id', 'best_book_id', 'work_id', 'books_count', 'isbn',\n",
       "       'isbn13', 'authors', 'original_publication_year', 'original_title',\n",
       "       'title', 'language_code', 'average_rating', 'ratings_count',\n",
       "       'work_ratings_count', 'work_text_reviews_count', 'ratings_1',\n",
       "       'ratings_2', 'ratings_3', 'ratings_4', 'ratings_5', 'image_url',\n",
       "       'small_image_url'],\n",
       "      dtype='object')"
      ]
     },
     "execution_count": 4,
     "metadata": {},
     "output_type": "execute_result"
    }
   ],
   "source": [
    "books.columns"
   ]
  },
  {
   "cell_type": "code",
   "execution_count": 5,
   "id": "4fe7c27b",
   "metadata": {},
   "outputs": [
    {
     "data": {
      "text/html": [
       "<div>\n",
       "<style scoped>\n",
       "    .dataframe tbody tr th:only-of-type {\n",
       "        vertical-align: middle;\n",
       "    }\n",
       "\n",
       "    .dataframe tbody tr th {\n",
       "        vertical-align: top;\n",
       "    }\n",
       "\n",
       "    .dataframe thead th {\n",
       "        text-align: right;\n",
       "    }\n",
       "</style>\n",
       "<table border=\"1\" class=\"dataframe\">\n",
       "  <thead>\n",
       "    <tr style=\"text-align: right;\">\n",
       "      <th></th>\n",
       "      <th>id</th>\n",
       "      <th>book_id</th>\n",
       "      <th>isbn</th>\n",
       "      <th>authors</th>\n",
       "      <th>original_publication_year</th>\n",
       "      <th>title</th>\n",
       "      <th>average_rating</th>\n",
       "      <th>ratings_count</th>\n",
       "      <th>small_image_url</th>\n",
       "    </tr>\n",
       "  </thead>\n",
       "  <tbody>\n",
       "    <tr>\n",
       "      <th>0</th>\n",
       "      <td>1</td>\n",
       "      <td>2767052</td>\n",
       "      <td>439023483</td>\n",
       "      <td>Suzanne Collins</td>\n",
       "      <td>2008.0</td>\n",
       "      <td>The Hunger Games (The Hunger Games, #1)</td>\n",
       "      <td>4.34</td>\n",
       "      <td>4780653</td>\n",
       "      <td>https://images.gr-assets.com/books/1447303603s...</td>\n",
       "    </tr>\n",
       "    <tr>\n",
       "      <th>1</th>\n",
       "      <td>2</td>\n",
       "      <td>3</td>\n",
       "      <td>439554934</td>\n",
       "      <td>J.K. Rowling, Mary GrandPré</td>\n",
       "      <td>1997.0</td>\n",
       "      <td>Harry Potter and the Sorcerer's Stone (Harry P...</td>\n",
       "      <td>4.44</td>\n",
       "      <td>4602479</td>\n",
       "      <td>https://images.gr-assets.com/books/1474154022s...</td>\n",
       "    </tr>\n",
       "    <tr>\n",
       "      <th>2</th>\n",
       "      <td>3</td>\n",
       "      <td>41865</td>\n",
       "      <td>316015849</td>\n",
       "      <td>Stephenie Meyer</td>\n",
       "      <td>2005.0</td>\n",
       "      <td>Twilight (Twilight, #1)</td>\n",
       "      <td>3.57</td>\n",
       "      <td>3866839</td>\n",
       "      <td>https://images.gr-assets.com/books/1361039443s...</td>\n",
       "    </tr>\n",
       "    <tr>\n",
       "      <th>3</th>\n",
       "      <td>4</td>\n",
       "      <td>2657</td>\n",
       "      <td>61120081</td>\n",
       "      <td>Harper Lee</td>\n",
       "      <td>1960.0</td>\n",
       "      <td>To Kill a Mockingbird</td>\n",
       "      <td>4.25</td>\n",
       "      <td>3198671</td>\n",
       "      <td>https://images.gr-assets.com/books/1361975680s...</td>\n",
       "    </tr>\n",
       "    <tr>\n",
       "      <th>4</th>\n",
       "      <td>5</td>\n",
       "      <td>4671</td>\n",
       "      <td>743273567</td>\n",
       "      <td>F. Scott Fitzgerald</td>\n",
       "      <td>1925.0</td>\n",
       "      <td>The Great Gatsby</td>\n",
       "      <td>3.89</td>\n",
       "      <td>2683664</td>\n",
       "      <td>https://images.gr-assets.com/books/1490528560s...</td>\n",
       "    </tr>\n",
       "  </tbody>\n",
       "</table>\n",
       "</div>"
      ],
      "text/plain": [
       "   id  book_id       isbn                      authors  \\\n",
       "0   1  2767052  439023483              Suzanne Collins   \n",
       "1   2        3  439554934  J.K. Rowling, Mary GrandPré   \n",
       "2   3    41865  316015849              Stephenie Meyer   \n",
       "3   4     2657   61120081                   Harper Lee   \n",
       "4   5     4671  743273567          F. Scott Fitzgerald   \n",
       "\n",
       "   original_publication_year  \\\n",
       "0                     2008.0   \n",
       "1                     1997.0   \n",
       "2                     2005.0   \n",
       "3                     1960.0   \n",
       "4                     1925.0   \n",
       "\n",
       "                                               title  average_rating  \\\n",
       "0            The Hunger Games (The Hunger Games, #1)            4.34   \n",
       "1  Harry Potter and the Sorcerer's Stone (Harry P...            4.44   \n",
       "2                            Twilight (Twilight, #1)            3.57   \n",
       "3                              To Kill a Mockingbird            4.25   \n",
       "4                                   The Great Gatsby            3.89   \n",
       "\n",
       "   ratings_count                                    small_image_url  \n",
       "0        4780653  https://images.gr-assets.com/books/1447303603s...  \n",
       "1        4602479  https://images.gr-assets.com/books/1474154022s...  \n",
       "2        3866839  https://images.gr-assets.com/books/1361039443s...  \n",
       "3        3198671  https://images.gr-assets.com/books/1361975680s...  \n",
       "4        2683664  https://images.gr-assets.com/books/1490528560s...  "
      ]
     },
     "execution_count": 5,
     "metadata": {},
     "output_type": "execute_result"
    }
   ],
   "source": [
    "columns = ['id', 'book_id', 'isbn', 'authors', 'original_publication_year', 'title', 'average_rating',\n",
    "           'ratings_count', 'small_image_url']\n",
    "\n",
    "books_new = books[columns]\n",
    "\n",
    "books_new.head()"
   ]
  },
  {
   "cell_type": "code",
   "execution_count": 6,
   "id": "5e58b709",
   "metadata": {},
   "outputs": [
    {
     "name": "stdout",
     "output_type": "stream",
     "text": [
      "<class 'pandas.core.frame.DataFrame'>\n",
      "RangeIndex: 10000 entries, 0 to 9999\n",
      "Data columns (total 9 columns):\n",
      " #   Column                     Non-Null Count  Dtype  \n",
      "---  ------                     --------------  -----  \n",
      " 0   id                         10000 non-null  int64  \n",
      " 1   book_id                    10000 non-null  int64  \n",
      " 2   isbn                       9300 non-null   object \n",
      " 3   authors                    10000 non-null  object \n",
      " 4   original_publication_year  9979 non-null   float64\n",
      " 5   title                      10000 non-null  object \n",
      " 6   average_rating             10000 non-null  float64\n",
      " 7   ratings_count              10000 non-null  int64  \n",
      " 8   small_image_url            10000 non-null  object \n",
      "dtypes: float64(2), int64(3), object(4)\n",
      "memory usage: 703.2+ KB\n"
     ]
    }
   ],
   "source": [
    "books_new.info()"
   ]
  },
  {
   "cell_type": "code",
   "execution_count": 7,
   "id": "b89c491a",
   "metadata": {},
   "outputs": [
    {
     "data": {
      "text/plain": [
       "id                             0\n",
       "book_id                        0\n",
       "isbn                         700\n",
       "authors                        0\n",
       "original_publication_year     21\n",
       "title                          0\n",
       "average_rating                 0\n",
       "ratings_count                  0\n",
       "small_image_url                0\n",
       "dtype: int64"
      ]
     },
     "execution_count": 7,
     "metadata": {},
     "output_type": "execute_result"
    }
   ],
   "source": [
    "books_new.isna().sum()"
   ]
  },
  {
   "cell_type": "code",
   "execution_count": 8,
   "id": "ddcd7017",
   "metadata": {},
   "outputs": [
    {
     "name": "stdout",
     "output_type": "stream",
     "text": [
      "<class 'pandas.core.frame.DataFrame'>\n",
      "RangeIndex: 10000 entries, 0 to 9999\n",
      "Data columns (total 9 columns):\n",
      " #   Column                     Non-Null Count  Dtype  \n",
      "---  ------                     --------------  -----  \n",
      " 0   id                         10000 non-null  int64  \n",
      " 1   book_id                    10000 non-null  int64  \n",
      " 2   isbn                       10000 non-null  object \n",
      " 3   authors                    10000 non-null  object \n",
      " 4   original_publication_year  10000 non-null  object \n",
      " 5   title                      10000 non-null  object \n",
      " 6   average_rating             10000 non-null  float64\n",
      " 7   ratings_count              10000 non-null  int64  \n",
      " 8   small_image_url            10000 non-null  object \n",
      "dtypes: float64(1), int64(3), object(5)\n",
      "memory usage: 703.2+ KB\n"
     ]
    }
   ],
   "source": [
    "books_new = books_new.fillna('NA')\n",
    "books_new.info()"
   ]
  },
  {
   "cell_type": "code",
   "execution_count": 9,
   "id": "f1cd40e0",
   "metadata": {},
   "outputs": [
    {
     "data": {
      "text/plain": [
       "book_id    0\n",
       "user_id    0\n",
       "rating     0\n",
       "dtype: int64"
      ]
     },
     "execution_count": 9,
     "metadata": {},
     "output_type": "execute_result"
    }
   ],
   "source": [
    "ratings.isna().sum()"
   ]
  },
  {
   "cell_type": "code",
   "execution_count": 10,
   "id": "7a3afd06",
   "metadata": {},
   "outputs": [],
   "source": [
    "books_new.to_csv('books_cleaned.csv')"
   ]
  },
  {
   "cell_type": "markdown",
   "id": "5fd21958",
   "metadata": {},
   "source": [
    "# Data Modeling:"
   ]
  },
  {
   "cell_type": "code",
   "execution_count": 12,
   "id": "412f9808",
   "metadata": {},
   "outputs": [
    {
     "name": "stdout",
     "output_type": "stream",
     "text": [
      "Shape of train data: (785404, 3)\n",
      "Shape of test data: (196352, 3)\n"
     ]
    }
   ],
   "source": [
    "#Spliting the data\n",
    "from sklearn.model_selection import train_test_split\n",
    "\n",
    "train, test = train_test_split(ratings, test_size=0.2, random_state=42)\n",
    "\n",
    "print(f\"Shape of train data: {train.shape}\")\n",
    "print(f\"Shape of test data: {test.shape}\")"
   ]
  },
  {
   "cell_type": "code",
   "execution_count": 13,
   "id": "1849361f",
   "metadata": {},
   "outputs": [
    {
     "name": "stdout",
     "output_type": "stream",
     "text": [
      "Total books: 10000\n",
      "Total users: 53424\n"
     ]
    }
   ],
   "source": [
    "#nunique() will return the total number of unique items\n",
    "\n",
    "book_id = ratings.book_id.nunique() \n",
    "\n",
    "user_id = ratings.user_id.nunique()\n",
    "print('Total books: ' + str(book_id))\n",
    "print('Total users: ' + str(user_id))"
   ]
  },
  {
   "cell_type": "markdown",
   "id": "e362ac2b",
   "metadata": {},
   "source": [
    "# Model Building:"
   ]
  },
  {
   "cell_type": "code",
   "execution_count": 14,
   "id": "6fd3aa29",
   "metadata": {},
   "outputs": [],
   "source": [
    "from tensorflow.keras.layers import Dense, Flatten, Input, Embedding, Concatenate, Dropout\n",
    "from tensorflow.keras.callbacks import EarlyStopping\n",
    "from tensorflow.keras.optimizers import Adam"
   ]
  },
  {
   "cell_type": "code",
   "execution_count": 16,
   "id": "5872b50b",
   "metadata": {},
   "outputs": [],
   "source": [
    "#Embedding layer for books\n",
    "books_input = Input(shape=[1])#1st Input Layer\n",
    "embedding_layer_books = Embedding(book_id + 1,10)(books_input)#Embedding layer\n",
    "embedding_output_books = Flatten()(embedding_layer_books)#Embedding layer output\n",
    "\n",
    "#Embedding layer for users\n",
    "users_input = Input(shape=[1])#1st Input Layer\n",
    "embedding_layer_users = Embedding(user_id + 1,10)(users_input)#Embedding layer\n",
    "embedding_output_users = Flatten()(embedding_layer_users)#Embedding layer output"
   ]
  },
  {
   "cell_type": "code",
   "execution_count": 17,
   "id": "32283bb4",
   "metadata": {},
   "outputs": [],
   "source": [
    "#Concatenation and Dense layer\n",
    "\n",
    "joining_layer = Concatenate()([embedding_output_books, embedding_output_users])\n",
    "hidden_layer_1 = Dense(128, activation='relu')(joining_layer)\n",
    "hidden_layer_1 = Dropout(0.5)(hidden_layer_1)\n",
    "\n",
    "output_layer = hidden_layer_2 = Dense(1)(hidden_layer_1)\n",
    "\n",
    "model = tf.keras.Model([books_input, users_input], output_layer)"
   ]
  },
  {
   "cell_type": "code",
   "execution_count": 20,
   "id": "ea76ce76",
   "metadata": {
    "scrolled": true
   },
   "outputs": [
    {
     "name": "stdout",
     "output_type": "stream",
     "text": [
      "Model: \"model\"\n",
      "__________________________________________________________________________________________________\n",
      " Layer (type)                   Output Shape         Param #     Connected to                     \n",
      "==================================================================================================\n",
      " input_3 (InputLayer)           [(None, 1)]          0           []                               \n",
      "                                                                                                  \n",
      " input_4 (InputLayer)           [(None, 1)]          0           []                               \n",
      "                                                                                                  \n",
      " embedding_2 (Embedding)        (None, 1, 10)        100010      ['input_3[0][0]']                \n",
      "                                                                                                  \n",
      " embedding_3 (Embedding)        (None, 1, 10)        534250      ['input_4[0][0]']                \n",
      "                                                                                                  \n",
      " flatten_2 (Flatten)            (None, 10)           0           ['embedding_2[0][0]']            \n",
      "                                                                                                  \n",
      " flatten_3 (Flatten)            (None, 10)           0           ['embedding_3[0][0]']            \n",
      "                                                                                                  \n",
      " concatenate (Concatenate)      (None, 20)           0           ['flatten_2[0][0]',              \n",
      "                                                                  'flatten_3[0][0]']              \n",
      "                                                                                                  \n",
      " dense (Dense)                  (None, 128)          2688        ['concatenate[0][0]']            \n",
      "                                                                                                  \n",
      " dropout (Dropout)              (None, 128)          0           ['dense[0][0]']                  \n",
      "                                                                                                  \n",
      " dense_1 (Dense)                (None, 1)            129         ['dropout[0][0]']                \n",
      "                                                                                                  \n",
      "==================================================================================================\n",
      "Total params: 637,077\n",
      "Trainable params: 637,077\n",
      "Non-trainable params: 0\n",
      "__________________________________________________________________________________________________\n"
     ]
    }
   ],
   "source": [
    "#Model compilation\n",
    "\n",
    "optimizer = Adam(lr=0.001, epsilon = 1e-6, amsgrad=True) #epsilon = decay rate\n",
    "model.compile(optimizer = optimizer, loss = 'mean_squared_error')#Using mean squared error as loss function\n",
    "\n",
    "model.summary()"
   ]
  },
  {
   "cell_type": "markdown",
   "id": "10dd9f0c",
   "metadata": {},
   "source": [
    "# Training Model"
   ]
  },
  {
   "cell_type": "code",
   "execution_count": 21,
   "id": "1c6ac312",
   "metadata": {},
   "outputs": [
    {
     "name": "stdout",
     "output_type": "stream",
     "text": [
      "Epoch 1/15\n",
      "12272/12272 [==============================] - 189s 15ms/step - loss: 1.0466 - val_loss: 0.7300\n",
      "Epoch 2/15\n",
      "12272/12272 [==============================] - 184s 15ms/step - loss: 0.7995 - val_loss: 0.7137\n",
      "Epoch 3/15\n",
      "12272/12272 [==============================] - 181s 15ms/step - loss: 0.7459 - val_loss: 0.7080\n",
      "Epoch 4/15\n",
      "12272/12272 [==============================] - 177s 14ms/step - loss: 0.7121 - val_loss: 0.7073\n",
      "Epoch 5/15\n",
      "12272/12272 [==============================] - 175s 14ms/step - loss: 0.6876 - val_loss: 0.7051\n",
      "Epoch 6/15\n",
      "12272/12272 [==============================] - 169s 14ms/step - loss: 0.6655 - val_loss: 0.7046\n",
      "Epoch 7/15\n",
      "12272/12272 [==============================] - 177s 14ms/step - loss: 0.6474 - val_loss: 0.7058\n"
     ]
    },
    {
     "data": {
      "text/plain": [
       "<keras.callbacks.History at 0x190f8b4e070>"
      ]
     },
     "execution_count": 21,
     "metadata": {},
     "output_type": "execute_result"
    }
   ],
   "source": [
    "early_stopping = EarlyStopping(monitor = 'val_loss', patience = 1)\n",
    "\n",
    "model.fit(\n",
    "    [train.book_id, train.user_id], train.rating, \n",
    "    batch_size=64, \n",
    "    epochs=15, \n",
    "    verbose=1,\n",
    "    callbacks = [early_stopping],\n",
    "    validation_data=([test.book_id, test.user_id], test.rating))"
   ]
  },
  {
   "cell_type": "code",
   "execution_count": 22,
   "id": "f103603c",
   "metadata": {},
   "outputs": [
    {
     "data": {
      "text/plain": [
       "<AxesSubplot:>"
      ]
     },
     "execution_count": 22,
     "metadata": {},
     "output_type": "execute_result"
    },
    {
     "data": {
      "image/png": "[encoded data removed]",
      "text/plain": [
       "<Figure size 432x288 with 1 Axes>"
      ]
     },
     "metadata": {
      "needs_background": "light"
     },
     "output_type": "display_data"
    }
   ],
   "source": [
    "loss = pd.DataFrame(model.history.history)\n",
    "\n",
    "loss[['loss', 'val_loss']].plot()"
   ]
  },
  {
   "cell_type": "code",
   "execution_count": 24,
   "id": "9fbd47d9",
   "metadata": {},
   "outputs": [
    {
     "data": {
      "text/html": [
       "<div>\n",
       "<style scoped>\n",
       "    .dataframe tbody tr th:only-of-type {\n",
       "        vertical-align: middle;\n",
       "    }\n",
       "\n",
       "    .dataframe tbody tr th {\n",
       "        vertical-align: top;\n",
       "    }\n",
       "\n",
       "    .dataframe thead th {\n",
       "        text-align: right;\n",
       "    }\n",
       "</style>\n",
       "<table border=\"1\" class=\"dataframe\">\n",
       "  <thead>\n",
       "    <tr style=\"text-align: right;\">\n",
       "      <th></th>\n",
       "      <th>id</th>\n",
       "      <th>book_id</th>\n",
       "      <th>best_book_id</th>\n",
       "      <th>work_id</th>\n",
       "      <th>books_count</th>\n",
       "      <th>isbn</th>\n",
       "      <th>isbn13</th>\n",
       "      <th>authors</th>\n",
       "      <th>original_publication_year</th>\n",
       "      <th>original_title</th>\n",
       "      <th>...</th>\n",
       "      <th>ratings_count</th>\n",
       "      <th>work_ratings_count</th>\n",
       "      <th>work_text_reviews_count</th>\n",
       "      <th>ratings_1</th>\n",
       "      <th>ratings_2</th>\n",
       "      <th>ratings_3</th>\n",
       "      <th>ratings_4</th>\n",
       "      <th>ratings_5</th>\n",
       "      <th>image_url</th>\n",
       "      <th>small_image_url</th>\n",
       "    </tr>\n",
       "  </thead>\n",
       "  <tbody>\n",
       "    <tr>\n",
       "      <th>0</th>\n",
       "      <td>1</td>\n",
       "      <td>2767052</td>\n",
       "      <td>2767052</td>\n",
       "      <td>2792775</td>\n",
       "      <td>272</td>\n",
       "      <td>439023483</td>\n",
       "      <td>9.780439e+12</td>\n",
       "      <td>Suzanne Collins</td>\n",
       "      <td>2008.0</td>\n",
       "      <td>The Hunger Games</td>\n",
       "      <td>...</td>\n",
       "      <td>4780653</td>\n",
       "      <td>4942365</td>\n",
       "      <td>155254</td>\n",
       "      <td>66715</td>\n",
       "      <td>127936</td>\n",
       "      <td>560092</td>\n",
       "      <td>1481305</td>\n",
       "      <td>2706317</td>\n",
       "      <td>https://images.gr-assets.com/books/1447303603m...</td>\n",
       "      <td>https://images.gr-assets.com/books/1447303603s...</td>\n",
       "    </tr>\n",
       "    <tr>\n",
       "      <th>1</th>\n",
       "      <td>2</td>\n",
       "      <td>3</td>\n",
       "      <td>3</td>\n",
       "      <td>4640799</td>\n",
       "      <td>491</td>\n",
       "      <td>439554934</td>\n",
       "      <td>9.780440e+12</td>\n",
       "      <td>J.K. Rowling, Mary GrandPré</td>\n",
       "      <td>1997.0</td>\n",
       "      <td>Harry Potter and the Philosopher's Stone</td>\n",
       "      <td>...</td>\n",
       "      <td>4602479</td>\n",
       "      <td>4800065</td>\n",
       "      <td>75867</td>\n",
       "      <td>75504</td>\n",
       "      <td>101676</td>\n",
       "      <td>455024</td>\n",
       "      <td>1156318</td>\n",
       "      <td>3011543</td>\n",
       "      <td>https://images.gr-assets.com/books/1474154022m...</td>\n",
       "      <td>https://images.gr-assets.com/books/1474154022s...</td>\n",
       "    </tr>\n",
       "    <tr>\n",
       "      <th>2</th>\n",
       "      <td>3</td>\n",
       "      <td>41865</td>\n",
       "      <td>41865</td>\n",
       "      <td>3212258</td>\n",
       "      <td>226</td>\n",
       "      <td>316015849</td>\n",
       "      <td>9.780316e+12</td>\n",
       "      <td>Stephenie Meyer</td>\n",
       "      <td>2005.0</td>\n",
       "      <td>Twilight</td>\n",
       "      <td>...</td>\n",
       "      <td>3866839</td>\n",
       "      <td>3916824</td>\n",
       "      <td>95009</td>\n",
       "      <td>456191</td>\n",
       "      <td>436802</td>\n",
       "      <td>793319</td>\n",
       "      <td>875073</td>\n",
       "      <td>1355439</td>\n",
       "      <td>https://images.gr-assets.com/books/1361039443m...</td>\n",
       "      <td>https://images.gr-assets.com/books/1361039443s...</td>\n",
       "    </tr>\n",
       "  </tbody>\n",
       "</table>\n",
       "<p>3 rows × 23 columns</p>\n",
       "</div>"
      ],
      "text/plain": [
       "   id  book_id  best_book_id  work_id  books_count       isbn        isbn13  \\\n",
       "0   1  2767052       2767052  2792775          272  439023483  9.780439e+12   \n",
       "1   2        3             3  4640799          491  439554934  9.780440e+12   \n",
       "2   3    41865         41865  3212258          226  316015849  9.780316e+12   \n",
       "\n",
       "                       authors  original_publication_year  \\\n",
       "0              Suzanne Collins                     2008.0   \n",
       "1  J.K. Rowling, Mary GrandPré                     1997.0   \n",
       "2              Stephenie Meyer                     2005.0   \n",
       "\n",
       "                             original_title  ... ratings_count  \\\n",
       "0                          The Hunger Games  ...       4780653   \n",
       "1  Harry Potter and the Philosopher's Stone  ...       4602479   \n",
       "2                                  Twilight  ...       3866839   \n",
       "\n",
       "  work_ratings_count  work_text_reviews_count  ratings_1  ratings_2  \\\n",
       "0            4942365                   155254      66715     127936   \n",
       "1            4800065                    75867      75504     101676   \n",
       "2            3916824                    95009     456191     436802   \n",
       "\n",
       "   ratings_3  ratings_4  ratings_5  \\\n",
       "0     560092    1481305    2706317   \n",
       "1     455024    1156318    3011543   \n",
       "2     793319     875073    1355439   \n",
       "\n",
       "                                           image_url  \\\n",
       "0  https://images.gr-assets.com/books/1447303603m...   \n",
       "1  https://images.gr-assets.com/books/1474154022m...   \n",
       "2  https://images.gr-assets.com/books/1361039443m...   \n",
       "\n",
       "                                     small_image_url  \n",
       "0  https://images.gr-assets.com/books/1447303603s...  \n",
       "1  https://images.gr-assets.com/books/1474154022s...  \n",
       "2  https://images.gr-assets.com/books/1361039443s...  \n",
       "\n",
       "[3 rows x 23 columns]"
      ]
     },
     "execution_count": 24,
     "metadata": {},
     "output_type": "execute_result"
    }
   ],
   "source": [
    "books.head(3)"
   ]
  },
  {
   "cell_type": "code",
   "execution_count": 29,
   "id": "ebc9612d",
   "metadata": {},
   "outputs": [],
   "source": [
    "#Defining a function that will recommend top 5 books\n",
    "def recommend(user_id):\n",
    "    books = pd.read_csv(r'C:\\Users\\nisar\\Downloads\\ADMProj\\books_cleaned.csv')\n",
    "    ratings = pd.read_csv(r'C:\\Users\\nisar\\Downloads\\ADMProj\\ratings.csv')\n",
    "  \n",
    "    book_id = list(ratings.book_id.unique()) #grabbing all the unique books\n",
    "  \n",
    "    book_arr = np.array(book_id) #geting all book IDs and storing them in the form of an array\n",
    "    user_arr = np.array([user_id for i in range(len(book_id))])\n",
    "    prediction = model.predict([book_arr, user_arr])\n",
    "  \n",
    "    prediction = prediction.reshape(-1) #reshape to single dimension\n",
    "    prediction_ids = np.argsort(-prediction)[0:5]\n",
    "\n",
    "    recommended_books = pd.DataFrame(books.iloc[prediction_ids], columns = ['book_id', 'isbn', 'authors', 'title', 'average_rating' ])\n",
    "    print('Top 5 recommended books for you: \\n')\n",
    "    return recommended_books"
   ]
  },
  {
   "cell_type": "code",
   "execution_count": 30,
   "id": "bfa4bddf",
   "metadata": {},
   "outputs": [
    {
     "data": {
      "text/plain": [
       "53424"
      ]
     },
     "execution_count": 30,
     "metadata": {},
     "output_type": "execute_result"
    }
   ],
   "source": [
    "ratings.user_id.unique().max()"
   ]
  },
  {
   "cell_type": "code",
   "execution_count": 31,
   "id": "46edf271",
   "metadata": {},
   "outputs": [
    {
     "name": "stdout",
     "output_type": "stream",
     "text": [
      "Top 5 recommended books for you: \n",
      "\n"
     ]
    },
    {
     "data": {
      "text/html": [
       "<div>\n",
       "<style scoped>\n",
       "    .dataframe tbody tr th:only-of-type {\n",
       "        vertical-align: middle;\n",
       "    }\n",
       "\n",
       "    .dataframe tbody tr th {\n",
       "        vertical-align: top;\n",
       "    }\n",
       "\n",
       "    .dataframe thead th {\n",
       "        text-align: right;\n",
       "    }\n",
       "</style>\n",
       "<table border=\"1\" class=\"dataframe\">\n",
       "  <thead>\n",
       "    <tr style=\"text-align: right;\">\n",
       "      <th></th>\n",
       "      <th>book_id</th>\n",
       "      <th>isbn</th>\n",
       "      <th>authors</th>\n",
       "      <th>title</th>\n",
       "      <th>average_rating</th>\n",
       "    </tr>\n",
       "  </thead>\n",
       "  <tbody>\n",
       "    <tr>\n",
       "      <th>3627</th>\n",
       "      <td>24812</td>\n",
       "      <td>740748475</td>\n",
       "      <td>Bill Watterson</td>\n",
       "      <td>The Complete Calvin and Hobbes</td>\n",
       "      <td>4.82</td>\n",
       "    </tr>\n",
       "    <tr>\n",
       "      <th>861</th>\n",
       "      <td>17332218</td>\n",
       "      <td>765326361</td>\n",
       "      <td>Brandon Sanderson</td>\n",
       "      <td>Words of Radiance (The Stormlight Archive, #2)</td>\n",
       "      <td>4.77</td>\n",
       "    </tr>\n",
       "    <tr>\n",
       "      <th>9841</th>\n",
       "      <td>24019187</td>\n",
       "      <td>1250058902</td>\n",
       "      <td>Brandon Stanton</td>\n",
       "      <td>Humans of New York: Stories</td>\n",
       "      <td>4.50</td>\n",
       "    </tr>\n",
       "    <tr>\n",
       "      <th>7253</th>\n",
       "      <td>24816</td>\n",
       "      <td>836217691</td>\n",
       "      <td>Bill Watterson</td>\n",
       "      <td>Homicidal Psycho Jungle Cat: A Calvin and Hobb...</td>\n",
       "      <td>4.71</td>\n",
       "    </tr>\n",
       "    <tr>\n",
       "      <th>8945</th>\n",
       "      <td>46292</td>\n",
       "      <td>9646534783</td>\n",
       "      <td>Hafez</td>\n",
       "      <td>The Divan</td>\n",
       "      <td>4.63</td>\n",
       "    </tr>\n",
       "  </tbody>\n",
       "</table>\n",
       "</div>"
      ],
      "text/plain": [
       "       book_id        isbn            authors  \\\n",
       "3627     24812   740748475     Bill Watterson   \n",
       "861   17332218   765326361  Brandon Sanderson   \n",
       "9841  24019187  1250058902    Brandon Stanton   \n",
       "7253     24816   836217691     Bill Watterson   \n",
       "8945     46292  9646534783              Hafez   \n",
       "\n",
       "                                                  title  average_rating  \n",
       "3627                     The Complete Calvin and Hobbes            4.82  \n",
       "861      Words of Radiance (The Stormlight Archive, #2)            4.77  \n",
       "9841                        Humans of New York: Stories            4.50  \n",
       "7253  Homicidal Psycho Jungle Cat: A Calvin and Hobb...            4.71  \n",
       "8945                                          The Divan            4.63  "
      ]
     },
     "execution_count": 31,
     "metadata": {},
     "output_type": "execute_result"
    }
   ],
   "source": [
    "#Enter a number between 1 and 53424\n",
    "recommend(789)"
   ]
  },
  {
   "cell_type": "code",
   "execution_count": null,
   "id": "ee83b11b",
   "metadata": {},
   "outputs": [],
   "source": []
  }
 ],
 "metadata": {
  "kernelspec": {
   "display_name": "Python 3 (ipykernel)",
   "language": "python",
   "name": "python3"
  },
  "language_info": {
   "codemirror_mode": {
    "name": "ipython",
    "version": 3
   },
   "file_extension": ".py",
   "mimetype": "text/x-python",
   "name": "python",
   "nbconvert_exporter": "python",
   "pygments_lexer": "ipython3",
   "version": "3.9.7"
  }
 },
 "nbformat": 4,
 "nbformat_minor": 5
}
